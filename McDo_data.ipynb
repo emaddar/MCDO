{
 "cells": [
  {
   "cell_type": "markdown",
   "metadata": {},
   "source": [
    "## import packages"
   ]
  },
  {
   "cell_type": "code",
   "execution_count": 1,
   "metadata": {},
   "outputs": [],
   "source": [
    "import sqlalchemy as db"
   ]
  },
  {
   "cell_type": "markdown",
   "metadata": {},
   "source": [
    "## Set up the connection"
   ]
  },
  {
   "cell_type": "code",
   "execution_count": 58,
   "metadata": {},
   "outputs": [],
   "source": [
    "# Set up connection\n",
    "engine = db.create_engine(\"sqlite:///McDo.db\")\n",
    "connection = engine.connect()\n",
    "\n",
    "\n",
    "engine_argent = db.create_engine(\"sqlite:///argent.db\", echo=False)\n",
    "connection_argent = engine_argent.connect()\n"
   ]
  },
  {
   "cell_type": "markdown",
   "metadata": {},
   "source": [
    "## Meta Data"
   ]
  },
  {
   "cell_type": "code",
   "execution_count": null,
   "metadata": {},
   "outputs": [],
   "source": []
  },
  {
   "cell_type": "markdown",
   "metadata": {},
   "source": [
    "## Create tables"
   ]
  },
  {
   "cell_type": "code",
   "execution_count": 62,
   "metadata": {},
   "outputs": [
    {
     "name": "stdout",
     "output_type": "stream",
     "text": [
      "Restaurant successfully created\n",
      "Adresse successfully created\n",
      "Personnels successfully created\n",
      "Comptabilite successfully created\n",
      "Carte successfully created\n",
      "Menu successfully created\n",
      "Items successfully created\n",
      "Association successfully created\n",
      "Ingredients successfully created\n",
      "Stockassociation successfully created\n",
      "Facture_association successfully created\n",
      "Facture_association_1 successfully created\n",
      "Facture successfully created\n"
     ]
    }
   ],
   "source": [
    "# Create a metadata object\n",
    "metadata = db.MetaData()\n",
    "\n",
    "\n",
    "restaurant_table = db.Table(\n",
    "    \"Restaurant\",\n",
    "    metadata,\n",
    "    db.Column(\"nbr_de_places\", db.Integer()),\n",
    "    db.Column(\"espace_enfant\", db.Integer()),\n",
    "    db.Column(\"service_de_payement\", db.String(35)),\n",
    "    db.Column(\"accessebilite_mobilite_reduite\", db.Integer()),\n",
    "    db.Column(\"parking\", db.Integer()),\n",
    "    db.Column(\"numero_tel_resto\", db.Integer()),\n",
    "    db.Column(\"siret\", db.Integer()),\n",
    "    db.Column(\"id_resto\", db.Integer(), primary_key = True),\n",
    ")\n",
    "\n",
    "adresse_table = db.Table(\n",
    "    \"Adresse\",\n",
    "    metadata,\n",
    "    db.Column(\"city\", db.String(35), nullable=False),\n",
    "    db.Column(\"lat\", db.Integer(),nullable=True),\n",
    "    db.Column(\"lng\", db.Integer()),\n",
    "    db.Column(\"pays_resto\", db.String(35), nullable=False),\n",
    "    db.Column(\"id_resto\", db.Integer(), db.ForeignKey(\"Restaurant.id_resto\")),\n",
    "    db.Column(\"code_postale\", db.Integer(), primary_key = True)\n",
    ")\n",
    "\n",
    "\n",
    "# id_personnel,nom,prenom,date_de_naissance,num_telephone_perso,email,rib,adresse_perso,ville_perso,code_postale_perso,date_entree,status_employee,en_formation,nbr_de_changement_poste,nbr_de_changement_resto,pays_perso,id_resto\n",
    "PERSONNELS_table = db.Table(\n",
    "    \"Personnels\",\n",
    "    metadata,\n",
    "    db.Column(\"id_personnel\", db.Integer(), primary_key = True),\n",
    "    db.Column(\"nom\", db.Integer(), default = 0),\n",
    "    db.Column(\"prenom\", db.String(35), default=1),\n",
    "    db.Column(\"date_de_naissance\", db.Integer(),default=1),\n",
    "    db.Column(\"num_telephone_perso\", db.Integer(),nullable=False),\n",
    "    db.Column(\"email\", db.Integer(), nullable=False),\n",
    "    db.Column(\"rib\", db.Integer(), nullable=False),\n",
    "    db.Column(\"adresse_perso\", db.Integer(), nullable=False),\n",
    "    db.Column(\"ville_perso\", db.Integer(), nullable=False),\n",
    "    db.Column(\"code_postale_perso\", db.Integer(), nullable=False),\n",
    "    db.Column(\"date_entree\", db.Integer(), nullable=False),\n",
    "    db.Column(\"status_employee\", db.String(35), default=1),\n",
    "    db.Column(\"en_formation\", db.Integer(),default=1),\n",
    "    db.Column(\"nbr_de_changement_poste\", db.Integer(),nullable=False),\n",
    "    db.Column(\"nbr_de_changement_resto\", db.Integer(), nullable=False),\n",
    "    db.Column(\"pays_perso\", db.String(35), nullable=False),\n",
    "    db.Column(\"id_resto\", db.Integer(), db.ForeignKey(\"Restaurant.id_resto\")),\n",
    ")\n",
    "\n",
    "comptabilite_table = db.Table(\n",
    "    \"Comptabilite\",\n",
    "    metadata,\n",
    "    db.Column(\"num_de_transaction\", db.Integer(), primary_key = True),\n",
    "    db.Column(\"mois\", db.String(35), nullable=False),\n",
    "    db.Column(\"annee\", db.String(35), nullable=False),\n",
    "    db.Column(\"nbr_heures_de_tavail\", db.Integer(),nullable=False ),\n",
    "    db.Column(\"montant_historique\", db.Integer(), nullable=False),\n",
    "    db.Column(\"note_manager\", db.String(35), nullable=False),\n",
    "    db.Column(\"id_personnel\", db.Integer(), db.ForeignKey(\"Personnels.id_resto\"))\n",
    ")\n",
    "\n",
    "carte_table = db.Table(\n",
    "    \"Carte\",\n",
    "    metadata,\n",
    "    db.Column(\"pays_resto\", db.Integer(), primary_key = True),\n",
    "    db.Column(\"id_item\", db.Integer(), db.ForeignKey(\"items.id_item\")),\n",
    "    db.Column(\"id_menu\", db.String(35), db.ForeignKey(\"menu.id_menu\")),\n",
    "\n",
    ")\n",
    "\n",
    "menu_table = db.Table(\n",
    "    \"Menu\",\n",
    "    metadata,\n",
    "    db.Column(\"id_menu\", db.Integer(), primary_key = True),\n",
    "    db.Column(\"plat\", db.String(35), db.ForeignKey(\"Items.id_item\")),\n",
    "    db.Column(\"boisson\", db.String(35), db.ForeignKey(\"Items.id_item\")),\n",
    "    db.Column(\"dessert\", db.String(35), db.ForeignKey(\"Items.id_item\")),\n",
    "    db.Column(\"prix_ventre_menu\", db.Integer() ),\n",
    ")  \n",
    "\n",
    "items_table = db.Table(\n",
    "    \"Items\",\n",
    "    metadata,\n",
    "    db.Column(\"id_item\", db.Integer(), primary_key = True),\n",
    "    db.Column(\"nom_item\", db.Integer(), db.ForeignKey(\"Restaurant.id_resto\")),\n",
    "    db.Column(\"boisson_taille\", db.String(35), nullable=False),\n",
    "    db.Column(\"prix_vente_item\", db.Integer(), nullable=False),\n",
    ")\n",
    "\n",
    "association_table = db.Table(\n",
    "    \"Association\",\n",
    "    metadata,\n",
    "    db.Column(\"id_association\", db.String(50), primary_key = True),\n",
    "    db.Column(\"id_ingredient\", db.Integer(), db.ForeignKey(\"Restaurant.id_resto\")),\n",
    "    db.Column(\"id_item\", db.Integer(), nullable=False)\n",
    ")\n",
    "\n",
    " \n",
    "\n",
    "\n",
    "ingredients_table = db.Table(\n",
    "    \"Ingredients\",\n",
    "    metadata,\n",
    "    db.Column(\"id_ingredient\", db.Integer(), primary_key = True),\n",
    "    db.Column(\"id_resto\", db.Integer(), db.ForeignKey(\"Restaurant.id_resto\")),\n",
    "    db.Column(\"nom_ingredient\", db.String(35), nullable=False),\n",
    "    db.Column(\"prix_achats\", db.Integer(), nullable=False),\n",
    "    db.Column(\"quantite\", db.Integer(),  nullable=True),\n",
    "    db.Column(\"prix_total\", db.Integer(), nullable=False),\n",
    ")\n",
    "\n",
    "stock_association_table = db.Table(\n",
    "    \"Stockassociation\",\n",
    "    metadata,\n",
    "    db.Column(\"id_table_asso_stock\", db.String(50), primary_key = True),\n",
    "    db.Column(\"stock_quantite\", db.String(35), nullable=False),\n",
    "    db.Column(\"id_resto\", db.Integer(), db.ForeignKey(\"Restaurant.id_resto\")),\n",
    "    db.Column(\"id_ingredient\", db.String(35), db.ForeignKey(\"Ingredients.id_ingredient\")),\n",
    ")\n",
    "\n",
    "facture_association_table = db.Table(\n",
    "    \"Facture_association\",\n",
    "    metadata,\n",
    "\n",
    "    db.Column(\"id_association\", db.String(50), primary_key = True),\n",
    "    db.Column(\"id_facture\", db.Integer(), db.ForeignKey(\"Facture.id_facture\")),\n",
    "    db.Column(\"id_item\", db.String(35), db.ForeignKey(\"Items.id_item\")),\n",
    " \n",
    ")\n",
    "\n",
    "\n",
    "facture_association_table_1 = db.Table(\n",
    "    \"Facture_association_1\",\n",
    "    metadata,\n",
    "\n",
    "    db.Column(\"id_association\", db.String(50), primary_key = True),\n",
    "    db.Column(\"id_facture\", db.Integer(), db.ForeignKey(\"Facture.id_facture\")),\n",
    "    db.Column(\"id_menu\", db.String(35), db.ForeignKey(\"Menu.id_menu\")),\n",
    " \n",
    ")\n",
    "\n",
    "\n",
    "\n",
    "facture_table = db.Table(\n",
    "    \"Facture\",\n",
    "    metadata,\n",
    "    db.Column(\"id_facture\", db.String(50), primary_key = True),\n",
    "    db.Column(\"date\", db.String(35), nullable=False),\n",
    "    db.Column(\"heure\", db.String(35), nullable=False),\n",
    "    db.Column(\"payement_type\", db.String(35), nullable=False),\n",
    "    db.Column(\"borne\", db.Integer(), nullable=True),\n",
    "    db.Column(\"prix_total\", db.Integer(), nullable=False),\n",
    "    db.Column(\"id_personnel\", db.Integer(), db.ForeignKey(\"Personnels.id_vendeur\")),\n",
    "    db.Column(\"nom_item\", db.String(35), nullable=False),    \n",
    "    db.Column(\"prix_vente_item\", db.Integer(), nullable=False),\n",
    "    db.Column(\"prix_vente_menu\", db.Integer(), nullable=False),\n",
    "    db.Column(\"id_resto\", db.Integer(), nullable=False),\n",
    "    \n",
    ")\n",
    "\n",
    "\n",
    "# Log the tables as they are created\n",
    "for table in metadata.tables.keys():\n",
    "    print(f\"{table} successfully created\")\n",
    "metadata.create_all(engine)"
   ]
  },
  {
   "cell_type": "code",
   "execution_count": 61,
   "metadata": {},
   "outputs": [
    {
     "ename": "TypeError",
     "evalue": "Connection.execute() missing 1 required positional argument: 'statement'",
     "output_type": "error",
     "traceback": [
      "\u001b[0;31m---------------------------------------------------------------------------\u001b[0m",
      "\u001b[0;31mTypeError\u001b[0m                                 Traceback (most recent call last)",
      "\u001b[1;32m/home/apprenant/Documents/MyLearning/Python/MCDO/McDo_data.ipynb Cellule 9\u001b[0m in \u001b[0;36m<cell line: 9>\u001b[0;34m()\u001b[0m\n\u001b[1;32m      <a href='vscode-notebook-cell:/home/apprenant/Documents/MyLearning/Python/MCDO/McDo_data.ipynb#X11sZmlsZQ%3D%3D?line=6'>7</a>\u001b[0m df[\u001b[39m'\u001b[39m\u001b[39mDate\u001b[39m\u001b[39m'\u001b[39m] \u001b[39m=\u001b[39m datetime\u001b[39m.\u001b[39mdatetime\u001b[39m.\u001b[39mnow()\n\u001b[1;32m      <a href='vscode-notebook-cell:/home/apprenant/Documents/MyLearning/Python/MCDO/McDo_data.ipynb#X11sZmlsZQ%3D%3D?line=7'>8</a>\u001b[0m df\u001b[39m.\u001b[39mto_sql(name\u001b[39m=\u001b[39m\u001b[39m'\u001b[39m\u001b[39mQuestion_1\u001b[39m\u001b[39m'\u001b[39m, con\u001b[39m=\u001b[39mconnection_argent, if_exists \u001b[39m=\u001b[39m \u001b[39m'\u001b[39m\u001b[39mreplace\u001b[39m\u001b[39m'\u001b[39m, index\u001b[39m=\u001b[39m\u001b[39mFalse\u001b[39;00m)\n\u001b[0;32m----> <a href='vscode-notebook-cell:/home/apprenant/Documents/MyLearning/Python/MCDO/McDo_data.ipynb#X11sZmlsZQ%3D%3D?line=8'>9</a>\u001b[0m connection_argent\u001b[39m.\u001b[39;49mexecute()\n",
      "\u001b[0;31mTypeError\u001b[0m: Connection.execute() missing 1 required positional argument: 'statement'"
     ]
    }
   ],
   "source": [
    "import pandas as pd\n",
    "import datetime\n",
    "output = connection.execute(\"\"\"SELECT pays_perso, substr(code_postale_perso, 1, 2) As Departement, count(id_personnel)\n",
    "                            FROM Personnels \n",
    "                            GROUP BY pays_perso, Departement; \"\"\")\n",
    "df = pd.DataFrame(output)\n",
    "df['Date'] = datetime.datetime.now()\n",
    "df.to_sql(name='Question_1', con=connection_argent, if_exists = 'replace', index=False)\n",
    "connection_argent.execute() \n"
   ]
  },
  {
   "cell_type": "code",
   "execution_count": 60,
   "metadata": {},
   "outputs": [
    {
     "name": "stdout",
     "output_type": "stream",
     "text": [
      "<sqlalchemy.engine.cursor.LegacyCursorResult object at 0x7f3badf0ab00>\n"
     ]
    }
   ],
   "source": [
    "output = connection_argent.execute(\"\"\" select * from Question_1;\"\"\")\n",
    "print(output)"
   ]
  },
  {
   "cell_type": "code",
   "execution_count": null,
   "metadata": {},
   "outputs": [],
   "source": []
  }
 ],
 "metadata": {
  "kernelspec": {
   "display_name": "Python 3.10.6 64-bit",
   "language": "python",
   "name": "python3"
  },
  "language_info": {
   "codemirror_mode": {
    "name": "ipython",
    "version": 3
   },
   "file_extension": ".py",
   "mimetype": "text/x-python",
   "name": "python",
   "nbconvert_exporter": "python",
   "pygments_lexer": "ipython3",
   "version": "3.10.6"
  },
  "orig_nbformat": 4,
  "vscode": {
   "interpreter": {
    "hash": "916dbcbb3f70747c44a77c7bcd40155683ae19c65e1c03b4aa3499c5328201f1"
   }
  }
 },
 "nbformat": 4,
 "nbformat_minor": 2
}
