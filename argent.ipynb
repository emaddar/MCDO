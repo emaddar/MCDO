{
 "cells": [
  {
   "cell_type": "code",
   "execution_count": null,
   "metadata": {},
   "outputs": [],
   "source": [
    "import sqlalchemy as db\n",
    "\n",
    "# Set up connection\n",
    "engine = db.create_engine(\"sqlite:///McDo.db\")\n",
    "connection = engine.connect()\n",
    "\n"
   ]
  }
 ],
 "metadata": {
  "kernelspec": {
   "display_name": "Python 3.10.8 ('sql')",
   "language": "python",
   "name": "python3"
  },
  "language_info": {
   "name": "python",
   "version": "3.10.8"
  },
  "orig_nbformat": 4,
  "vscode": {
   "interpreter": {
    "hash": "b1c06e4ae51d314a790b36a63c3374957c5954d4fa0164837fbd9624fe7909e7"
   }
  }
 },
 "nbformat": 4,
 "nbformat_minor": 2
}
