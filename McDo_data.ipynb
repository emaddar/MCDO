{
 "cells": [
  {
   "cell_type": "markdown",
   "metadata": {},
   "source": [
    "## import packages"
   ]
  },
  {
   "cell_type": "code",
   "execution_count": 1,
   "metadata": {},
   "outputs": [],
   "source": [
    "import sqlalchemy as db"
   ]
  },
  {
   "cell_type": "markdown",
   "metadata": {},
   "source": [
    "## Set up the connection"
   ]
  },
  {
   "cell_type": "code",
   "execution_count": 4,
   "metadata": {},
   "outputs": [],
   "source": [
    "# Set up connection\n",
    "engine = db.create_engine(\"sqlite:///McDo.db\")\n",
    "connection = engine.connect()\n"
   ]
  },
  {
   "cell_type": "markdown",
   "metadata": {},
   "source": [
    "## Meta Data"
   ]
  },
  {
   "cell_type": "code",
   "execution_count": 12,
   "metadata": {},
   "outputs": [],
   "source": []
  },
  {
   "cell_type": "markdown",
   "metadata": {},
   "source": [
    "## Create tables"
   ]
  },
  {
   "cell_type": "code",
   "execution_count": 17,
   "metadata": {},
   "outputs": [],
   "source": [
    "# Create a metadata object\n",
    "metadata = db.MetaData()\n",
    "\n",
    "\n",
    "restaurant_table = db.Table(\n",
    "    \"Restaurant\",\n",
    "    metadata,\n",
    "    db.Column(\"id_resto\", db.Integer(), primary_key = True),\n",
    "    db.Column(\"nbr_de_places\", db.Integer()),\n",
    "    db.Column(\"espace_enfant\", db.Integer(), default = 0),\n",
    "    db.Column(\"pays_resto\", db.String(35), nullable=False)\n",
    ")\n",
    "\n",
    "\n",
    "adresse_table = db.Table(\n",
    "    \"Adresse\",\n",
    "    metadata,\n",
    "    db.Column(\"code_postale\", db.Integer(), primary_key = True),\n",
    "    db.Column(\"id_resto\", db.Integer(), db.ForeignKey(\"Restaurant.id_resto\")),\n",
    "    db.Column(\"ville\", db.String(35), nullable=False),\n",
    "    db.Column(\"pays_resto\", db.String(35), nullable=False)\n",
    ")\n",
    "\n",
    "\n"
   ]
  },
  {
   "cell_type": "code",
   "execution_count": null,
   "metadata": {},
   "outputs": [],
   "source": []
  }
 ],
 "metadata": {
  "kernelspec": {
   "display_name": "Python 3.10.6 64-bit",
   "language": "python",
   "name": "python3"
  },
  "language_info": {
   "codemirror_mode": {
    "name": "ipython",
    "version": 3
   },
   "file_extension": ".py",
   "mimetype": "text/x-python",
   "name": "python",
   "nbconvert_exporter": "python",
   "pygments_lexer": "ipython3",
   "version": "3.10.6"
  },
  "orig_nbformat": 4,
  "vscode": {
   "interpreter": {
    "hash": "916dbcbb3f70747c44a77c7bcd40155683ae19c65e1c03b4aa3499c5328201f1"
   }
  }
 },
 "nbformat": 4,
 "nbformat_minor": 2
}
