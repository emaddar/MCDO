{
 "cells": [
  {
   "cell_type": "code",
   "execution_count": null,
   "metadata": {},
   "outputs": [
    {
     "ename": "",
     "evalue": "",
     "output_type": "error",
     "traceback": [
      "\u001b[1;31mÉchec du démarrage du noyau. \n",
      "\u001b[1;31mLe noyau sql (Python 3.10.8) n’est pas utilisable. Pour plus d’informations, consultez l’onglet Sortie de Jupyter. \n",
      "\u001b[1;31mPour plus d’informations, consultez Jupyter <a href='command:jupyter.viewOutput'>log</a>."
     ]
    }
   ],
   "source": [
    "\n",
    "from faker import Faker\n",
    "import pandas as pd\n",
    "import numpy as np\n",
    "import random\n"
   ]
  },
  {
   "cell_type": "code",
   "execution_count": null,
   "metadata": {},
   "outputs": [
    {
     "ename": "",
     "evalue": "",
     "output_type": "error",
     "traceback": [
      "\u001b[1;31mÉchec du démarrage du noyau. \n",
      "\u001b[1;31mLe noyau sql (Python 3.10.8) n’est pas utilisable. Pour plus d’informations, consultez l’onglet Sortie de Jupyter. \n",
      "\u001b[1;31mPour plus d’informations, consultez Jupyter <a href='command:jupyter.viewOutput'>log</a>."
     ]
    }
   ],
   "source": [
    "\n",
    "\n",
    "df_worldcities = pd.read_csv(\"worldcities.csv\")\n",
    "cities = df_worldcities.loc[df_worldcities['pays_resto'].isin(['France','Germany','Italy'])]\n",
    "cities = cities.sample(1000, replace = False).reset_index(drop = True)\n",
    "\n",
    "\n",
    "\n",
    "\n",
    "data = {}\n",
    "for i in range(0, int(1000)):\n",
    "        data[i]={}\n",
    "        data[i]['id_resto'] = i\n",
    "        data[i]['code_postale'] = random.randint(1000, 99999)\n",
    "\n",
    "df = pd.DataFrame(data).T\n",
    "\n",
    "df = pd.concat([cities, df], axis=1, join=\"inner\")\n",
    "\n",
    "df.to_csv(\"CSV/adresse\")"
   ]
  },
  {
   "cell_type": "code",
   "execution_count": null,
   "metadata": {},
   "outputs": [
    {
     "ename": "",
     "evalue": "",
     "output_type": "error",
     "traceback": [
      "\u001b[1;31mÉchec du démarrage du noyau. \n",
      "\u001b[1;31mLe noyau sql (Python 3.10.8) n’est pas utilisable. Pour plus d’informations, consultez l’onglet Sortie de Jupyter. \n",
      "\u001b[1;31mPour plus d’informations, consultez Jupyter <a href='command:jupyter.viewOutput'>log</a>."
     ]
    }
   ],
   "source": [
    "df.columns"
   ]
  },
  {
   "cell_type": "code",
   "execution_count": null,
   "metadata": {},
   "outputs": [],
   "source": []
  }
 ],
 "metadata": {
  "kernelspec": {
   "display_name": "Python 3.10.8 ('sql')",
   "language": "python",
   "name": "python3"
  },
  "language_info": {
   "name": "python",
   "version": "3.10.8"
  },
  "orig_nbformat": 4,
  "vscode": {
   "interpreter": {
    "hash": "b1c06e4ae51d314a790b36a63c3374957c5954d4fa0164837fbd9624fe7909e7"
   }
  }
 },
 "nbformat": 4,
 "nbformat_minor": 2
}
