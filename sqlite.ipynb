{
 "cells": [
  {
   "cell_type": "markdown",
   "metadata": {},
   "source": [
    "# Créer la base de données avec Sqlite"
   ]
  },
  {
   "cell_type": "markdown",
   "metadata": {},
   "source": [
    "### Créer une base de donées\n"
   ]
  },
  {
   "cell_type": "markdown",
   "metadata": {},
   "source": [
    "```sql sqlite3 McDo.db ```"
   ]
  },
  {
   "cell_type": "markdown",
   "metadata": {},
   "source": [
    "## CREATE TABLE Example"
   ]
  },
  {
   "cell_type": "markdown",
   "metadata": {},
   "source": [
    "```sql\n",
    "CREATE TABLE Persons (\n",
    "    PersonID int,\n",
    "    LastName varchar(255),\n",
    "    FirstName varchar(255),\n",
    "    Address varchar(255),\n",
    "    City varchar(255)\n",
    ");\n",
    "```"
   ]
  },
  {
   "cell_type": "markdown",
   "metadata": {},
   "source": [
    "## Showing tables using the sqlite command line shell program"
   ]
  },
  {
   "cell_type": "markdown",
   "metadata": {},
   "source": [
    "```sql\n",
    ".tables \n",
    "```"
   ]
  },
  {
   "cell_type": "markdown",
   "metadata": {},
   "source": [
    "## Import a CSV File Into an SQLite Table\n",
    "https://www.sqlitetutorial.net/sqlite-import-csv/"
   ]
  },
  {
   "cell_type": "markdown",
   "metadata": {},
   "source": [
    "First, drop the cities table that you have created.\n",
    "```sql\n",
    "DROP TABLE IF EXISTS cities;\n",
    "```\n",
    "Second, use the following CREATE TABLE statement to create the table cities.\n",
    "```sqlt\n",
    "CREATE TABLE cities(\n",
    "  name TEXT NOT NULL,\n",
    "  population INTEGER NOT NULL \n",
    ");\n",
    "```\n",
    "If the table already exists, the sqlite3 tool uses all the rows, including the first row, in the CSV file as the actual data to import. Therefore, you should delete the first row of the CSV file.\n",
    "\n",
    "The following commands import the city_without_header.csv file into the cities table.\n",
    "```sql\n",
    ".mode csv\n",
    ".import c:/sqlite/city_no_header.csv cities\n",
    "```\n",
    "\n",
    "In column mode, each record is shown on a separate line with the data aligned in columns. For example:\n",
    "\n",
    "```sql\n",
    "\n",
    ".mode column\n",
    "select * from cities;\n",
    "```"
   ]
  },
  {
   "cell_type": "code",
   "execution_count": null,
   "metadata": {},
   "outputs": [],
   "source": []
  }
 ],
 "metadata": {
  "kernelspec": {
   "display_name": "Python 3.9.15 ('dt_env')",
   "language": "python",
   "name": "python3"
  },
  "language_info": {
   "codemirror_mode": {
    "name": "ipython",
    "version": 3
   },
   "file_extension": ".py",
   "mimetype": "text/x-python",
   "name": "python",
   "nbconvert_exporter": "python",
   "pygments_lexer": "ipython3",
   "version": "3.9.15"
  },
  "orig_nbformat": 4,
  "vscode": {
   "interpreter": {
    "hash": "574e2ed95378eed8b520b4095c37c02073032c9c1ddd2478dd84a572888a6f90"
   }
  }
 },
 "nbformat": 4,
 "nbformat_minor": 2
}
